{
 "cells": [
  {
   "cell_type": "code",
   "execution_count": 36,
   "metadata": {},
   "outputs": [
    {
     "data": {
      "text/html": [
       "<div>\n",
       "<style scoped>\n",
       "    .dataframe tbody tr th:only-of-type {\n",
       "        vertical-align: middle;\n",
       "    }\n",
       "\n",
       "    .dataframe tbody tr th {\n",
       "        vertical-align: top;\n",
       "    }\n",
       "\n",
       "    .dataframe thead th {\n",
       "        text-align: right;\n",
       "    }\n",
       "</style>\n",
       "<table border=\"1\" class=\"dataframe\">\n",
       "  <thead>\n",
       "    <tr style=\"text-align: right;\">\n",
       "      <th></th>\n",
       "      <th>Category_A</th>\n",
       "      <th>Category_B</th>\n",
       "      <th>Type_X</th>\n",
       "      <th>Type_Y</th>\n",
       "    </tr>\n",
       "  </thead>\n",
       "  <tbody>\n",
       "    <tr>\n",
       "      <th>0</th>\n",
       "      <td>False</td>\n",
       "      <td>True</td>\n",
       "      <td>False</td>\n",
       "      <td>True</td>\n",
       "    </tr>\n",
       "    <tr>\n",
       "      <th>1</th>\n",
       "      <td>True</td>\n",
       "      <td>False</td>\n",
       "      <td>True</td>\n",
       "      <td>False</td>\n",
       "    </tr>\n",
       "  </tbody>\n",
       "</table>\n",
       "</div>"
      ],
      "text/plain": [
       "   Category_A  Category_B  Type_X  Type_Y\n",
       "0       False        True   False    True\n",
       "1        True       False    True   False"
      ]
     },
     "metadata": {},
     "output_type": "display_data"
    },
    {
     "data": {
      "text/html": [
       "<div>\n",
       "<style scoped>\n",
       "    .dataframe tbody tr th:only-of-type {\n",
       "        vertical-align: middle;\n",
       "    }\n",
       "\n",
       "    .dataframe tbody tr th {\n",
       "        vertical-align: top;\n",
       "    }\n",
       "\n",
       "    .dataframe thead th {\n",
       "        text-align: right;\n",
       "    }\n",
       "</style>\n",
       "<table border=\"1\" class=\"dataframe\">\n",
       "  <thead>\n",
       "    <tr style=\"text-align: right;\">\n",
       "      <th></th>\n",
       "      <th>Category_A</th>\n",
       "      <th>Category_B</th>\n",
       "      <th>Category_C</th>\n",
       "      <th>Type_X</th>\n",
       "      <th>Type_Y</th>\n",
       "    </tr>\n",
       "  </thead>\n",
       "  <tbody>\n",
       "    <tr>\n",
       "      <th>0</th>\n",
       "      <td>False</td>\n",
       "      <td>True</td>\n",
       "      <td>0</td>\n",
       "      <td>False</td>\n",
       "      <td>True</td>\n",
       "    </tr>\n",
       "    <tr>\n",
       "      <th>1</th>\n",
       "      <td>True</td>\n",
       "      <td>False</td>\n",
       "      <td>0</td>\n",
       "      <td>True</td>\n",
       "      <td>False</td>\n",
       "    </tr>\n",
       "  </tbody>\n",
       "</table>\n",
       "</div>"
      ],
      "text/plain": [
       "   Category_A  Category_B  Category_C  Type_X  Type_Y\n",
       "0       False        True           0   False    True\n",
       "1        True       False           0    True   False"
      ]
     },
     "metadata": {},
     "output_type": "display_data"
    },
    {
     "name": "stdout",
     "output_type": "stream",
     "text": [
      "Training Dummies:\n",
      "   Category_A  Category_B  Category_C  Type_X  Type_Y\n",
      "0        True       False       False    True   False\n",
      "1       False        True       False   False    True\n",
      "2       False       False        True    True   False\n",
      "3        True       False       False   False    True\n",
      "4       False       False        True    True   False\n",
      "\n",
      "Test Dummies (aligned with train data):\n",
      "   Category_A  Category_B  Category_C  Type_X  Type_Y\n",
      "0       False        True           0   False    True\n",
      "1        True       False           0    True   False\n"
     ]
    }
   ],
   "source": [
    "import pandas as pd\n",
    "\n",
    "# Sample training data\n",
    "train_data = {\n",
    "    'Category': ['A', 'B', 'C', 'A', 'C'],\n",
    "    'Type': ['X', 'Y', 'X', 'Y', 'X']\n",
    "}\n",
    "train_df = pd.DataFrame(train_data)\n",
    "\n",
    "# Sample test data (in original categorical form)\n",
    "test_data = {\n",
    "    'Category': ['B', 'A'],\n",
    "    'Type': ['Y', 'X']\n",
    "}\n",
    "test_df = pd.DataFrame(test_data)\n",
    "\n",
    "# Apply get_dummies on the training data\n",
    "train_dummies = pd.get_dummies(train_df, drop_first=False)\n",
    "\n",
    "# Apply get_dummies on the test data (without drop_first, same as train)\n",
    "test_dummies = pd.get_dummies(test_df, drop_first=False)\n",
    "display(test_dummies)\n",
    "# Align the test data with the training data\n",
    "# Reindex the test data columns to match the training data columns\n",
    "test_dummies = test_dummies.reindex(columns=train_dummies.columns, fill_value=0)\n",
    "display(test_dummies)\n",
    "# Now, test_dummies has the same columns as train_dummies (including missing columns set to 0)\n",
    "print(\"Training Dummies:\")\n",
    "print(train_dummies)\n",
    "\n",
    "print(\"\\nTest Dummies (aligned with train data):\")\n",
    "print(test_dummies)\n",
    "\n"
   ]
  },
  {
   "cell_type": "code",
   "execution_count": 3,
   "metadata": {},
   "outputs": [
    {
     "name": "stdout",
     "output_type": "stream",
     "text": [
      "<class 'pandas.core.frame.DataFrame'>\n",
      "RangeIndex: 14999 entries, 0 to 14998\n",
      "Data columns (total 10 columns):\n",
      " #   Column                 Non-Null Count  Dtype  \n",
      "---  ------                 --------------  -----  \n",
      " 0   satisfaction_level     14999 non-null  float64\n",
      " 1   last_evaluation        14999 non-null  float64\n",
      " 2   number_project         14999 non-null  int64  \n",
      " 3   average_montly_hours   14999 non-null  int64  \n",
      " 4   time_spend_company     14999 non-null  int64  \n",
      " 5   Work_accident          14999 non-null  int64  \n",
      " 6   left                   14999 non-null  int64  \n",
      " 7   promotion_last_5years  14999 non-null  int64  \n",
      " 8   Department             14999 non-null  object \n",
      " 9   salary                 14999 non-null  object \n",
      "dtypes: float64(2), int64(6), object(2)\n",
      "memory usage: 1.1+ MB\n"
     ]
    },
    {
     "data": {
      "text/plain": [
       "None"
      ]
     },
     "metadata": {},
     "output_type": "display_data"
    },
    {
     "data": {
      "text/html": [
       "<div>\n",
       "<style scoped>\n",
       "    .dataframe tbody tr th:only-of-type {\n",
       "        vertical-align: middle;\n",
       "    }\n",
       "\n",
       "    .dataframe tbody tr th {\n",
       "        vertical-align: top;\n",
       "    }\n",
       "\n",
       "    .dataframe thead th {\n",
       "        text-align: right;\n",
       "    }\n",
       "</style>\n",
       "<table border=\"1\" class=\"dataframe\">\n",
       "  <thead>\n",
       "    <tr style=\"text-align: right;\">\n",
       "      <th></th>\n",
       "      <th>satisfaction_level</th>\n",
       "      <th>last_evaluation</th>\n",
       "      <th>number_project</th>\n",
       "      <th>average_montly_hours</th>\n",
       "      <th>time_spend_company</th>\n",
       "      <th>Work_accident</th>\n",
       "      <th>left</th>\n",
       "      <th>promotion_last_5years</th>\n",
       "    </tr>\n",
       "  </thead>\n",
       "  <tbody>\n",
       "    <tr>\n",
       "      <th>count</th>\n",
       "      <td>14999.000000</td>\n",
       "      <td>14999.000000</td>\n",
       "      <td>14999.000000</td>\n",
       "      <td>14999.000000</td>\n",
       "      <td>14999.000000</td>\n",
       "      <td>14999.000000</td>\n",
       "      <td>14999.000000</td>\n",
       "      <td>14999.000000</td>\n",
       "    </tr>\n",
       "    <tr>\n",
       "      <th>mean</th>\n",
       "      <td>0.612834</td>\n",
       "      <td>0.716102</td>\n",
       "      <td>3.803054</td>\n",
       "      <td>201.050337</td>\n",
       "      <td>3.498233</td>\n",
       "      <td>0.144610</td>\n",
       "      <td>0.238083</td>\n",
       "      <td>0.021268</td>\n",
       "    </tr>\n",
       "    <tr>\n",
       "      <th>std</th>\n",
       "      <td>0.248631</td>\n",
       "      <td>0.171169</td>\n",
       "      <td>1.232592</td>\n",
       "      <td>49.943099</td>\n",
       "      <td>1.460136</td>\n",
       "      <td>0.351719</td>\n",
       "      <td>0.425924</td>\n",
       "      <td>0.144281</td>\n",
       "    </tr>\n",
       "    <tr>\n",
       "      <th>min</th>\n",
       "      <td>0.090000</td>\n",
       "      <td>0.360000</td>\n",
       "      <td>2.000000</td>\n",
       "      <td>96.000000</td>\n",
       "      <td>2.000000</td>\n",
       "      <td>0.000000</td>\n",
       "      <td>0.000000</td>\n",
       "      <td>0.000000</td>\n",
       "    </tr>\n",
       "    <tr>\n",
       "      <th>25%</th>\n",
       "      <td>0.440000</td>\n",
       "      <td>0.560000</td>\n",
       "      <td>3.000000</td>\n",
       "      <td>156.000000</td>\n",
       "      <td>3.000000</td>\n",
       "      <td>0.000000</td>\n",
       "      <td>0.000000</td>\n",
       "      <td>0.000000</td>\n",
       "    </tr>\n",
       "    <tr>\n",
       "      <th>50%</th>\n",
       "      <td>0.640000</td>\n",
       "      <td>0.720000</td>\n",
       "      <td>4.000000</td>\n",
       "      <td>200.000000</td>\n",
       "      <td>3.000000</td>\n",
       "      <td>0.000000</td>\n",
       "      <td>0.000000</td>\n",
       "      <td>0.000000</td>\n",
       "    </tr>\n",
       "    <tr>\n",
       "      <th>75%</th>\n",
       "      <td>0.820000</td>\n",
       "      <td>0.870000</td>\n",
       "      <td>5.000000</td>\n",
       "      <td>245.000000</td>\n",
       "      <td>4.000000</td>\n",
       "      <td>0.000000</td>\n",
       "      <td>0.000000</td>\n",
       "      <td>0.000000</td>\n",
       "    </tr>\n",
       "    <tr>\n",
       "      <th>max</th>\n",
       "      <td>1.000000</td>\n",
       "      <td>1.000000</td>\n",
       "      <td>7.000000</td>\n",
       "      <td>310.000000</td>\n",
       "      <td>10.000000</td>\n",
       "      <td>1.000000</td>\n",
       "      <td>1.000000</td>\n",
       "      <td>1.000000</td>\n",
       "    </tr>\n",
       "  </tbody>\n",
       "</table>\n",
       "</div>"
      ],
      "text/plain": [
       "       satisfaction_level  last_evaluation  number_project  \\\n",
       "count        14999.000000     14999.000000    14999.000000   \n",
       "mean             0.612834         0.716102        3.803054   \n",
       "std              0.248631         0.171169        1.232592   \n",
       "min              0.090000         0.360000        2.000000   \n",
       "25%              0.440000         0.560000        3.000000   \n",
       "50%              0.640000         0.720000        4.000000   \n",
       "75%              0.820000         0.870000        5.000000   \n",
       "max              1.000000         1.000000        7.000000   \n",
       "\n",
       "       average_montly_hours  time_spend_company  Work_accident          left  \\\n",
       "count          14999.000000        14999.000000   14999.000000  14999.000000   \n",
       "mean             201.050337            3.498233       0.144610      0.238083   \n",
       "std               49.943099            1.460136       0.351719      0.425924   \n",
       "min               96.000000            2.000000       0.000000      0.000000   \n",
       "25%              156.000000            3.000000       0.000000      0.000000   \n",
       "50%              200.000000            3.000000       0.000000      0.000000   \n",
       "75%              245.000000            4.000000       0.000000      0.000000   \n",
       "max              310.000000           10.000000       1.000000      1.000000   \n",
       "\n",
       "       promotion_last_5years  \n",
       "count           14999.000000  \n",
       "mean                0.021268  \n",
       "std                 0.144281  \n",
       "min                 0.000000  \n",
       "25%                 0.000000  \n",
       "50%                 0.000000  \n",
       "75%                 0.000000  \n",
       "max                 1.000000  "
      ]
     },
     "metadata": {},
     "output_type": "display_data"
    }
   ],
   "source": [
    "import pandas as pd\n",
    "import os\n",
    "curr_dir = os.getcwd()\n",
    "Data = pd.read_csv(os.path.join(curr_dir, os.pardir, 'data', 'raw_data.csv'))\n",
    "display(Data.info())\n",
    "display(Data.describe())\n"
   ]
  },
  {
   "cell_type": "code",
   "execution_count": 14,
   "metadata": {},
   "outputs": [],
   "source": [
    "D = dict()\n",
    "for col, t in dict(Data.dtypes).items():\n",
    "    D[col] = dict()\n",
    "    D[col]['label'] = col.capitalize().replace('_', ' ')\n",
    "    if Data[col].nunique()<=10:\n",
    "        D[col]['type'] = \"dropdown\"\n",
    "        D[col]['options'] = sorted(Data[col].unique().tolist())\n",
    "    else:\n",
    "        D[col]['type'] = \"value\"\n",
    "        D[col]['range'] = dict({'min': int(Data[col].min()), 'max': int(Data[col].max())})\n",
    "        if t=='float':\n",
    "            D[col]['precision'] = 10**(-int(Data[col].map(lambda x: len(str(x).split('.')[1])).max()))"
   ]
  },
  {
   "cell_type": "code",
   "execution_count": 16,
   "metadata": {},
   "outputs": [
    {
     "data": {
      "text/plain": [
       "{'satisfaction_level': {'label': 'Satisfaction level',\n",
       "  'type': 'value',\n",
       "  'range': {'min': 0, 'max': 1},\n",
       "  'precision': 0.01},\n",
       " 'last_evaluation': {'label': 'Last evaluation',\n",
       "  'type': 'value',\n",
       "  'range': {'min': 0, 'max': 1},\n",
       "  'precision': 0.01},\n",
       " 'number_project': {'label': 'Number project',\n",
       "  'type': 'dropdown',\n",
       "  'options': [2, 3, 4, 5, 6, 7]},\n",
       " 'average_montly_hours': {'label': 'Average montly hours',\n",
       "  'type': 'value',\n",
       "  'range': {'min': 96, 'max': 310}},\n",
       " 'time_spend_company': {'label': 'Time spend company',\n",
       "  'type': 'dropdown',\n",
       "  'options': [2, 3, 4, 5, 6, 7, 8, 10]},\n",
       " 'Work_accident': {'label': 'Work accident',\n",
       "  'type': 'dropdown',\n",
       "  'options': [0, 1]},\n",
       " 'left': {'label': 'Left', 'type': 'dropdown', 'options': [0, 1]},\n",
       " 'promotion_last_5years': {'label': 'Promotion last 5years',\n",
       "  'type': 'dropdown',\n",
       "  'options': [0, 1]},\n",
       " 'Department': {'label': 'Department',\n",
       "  'type': 'dropdown',\n",
       "  'options': ['IT',\n",
       "   'RandD',\n",
       "   'accounting',\n",
       "   'hr',\n",
       "   'management',\n",
       "   'marketing',\n",
       "   'product_mng',\n",
       "   'sales',\n",
       "   'support',\n",
       "   'technical']},\n",
       " 'salary': {'label': 'Salary',\n",
       "  'type': 'dropdown',\n",
       "  'options': ['high', 'low', 'medium']}}"
      ]
     },
     "execution_count": 16,
     "metadata": {},
     "output_type": "execute_result"
    }
   ],
   "source": [
    "D"
   ]
  },
  {
   "cell_type": "code",
   "execution_count": 116,
   "metadata": {},
   "outputs": [],
   "source": [
    "D = dict([(col,dict({'label': col.capitalize().replace('_', ' '),\n",
    "                 'type': 'dropdown' if Data[col].nunique()<=10 else 'range',\n",
    "                 'options': sorted(Data[col].unique().tolist()) if Data[col].nunique()<=10  else [],\n",
    "                 'range': None if Data[col].nunique()<=10  else dict({'min': int(Data[col].min()), 'max': int(Data[col].max())}),\n",
    "                 'precision': int(Data[col].map(lambda x: len(str(x).split('.')[1])).max()) if t=='float' else None\n",
    "                })) for col, t in dict(Data.dtypes).items()])"
   ]
  },
  {
   "cell_type": "code",
   "execution_count": null,
   "metadata": {},
   "outputs": [
    {
     "data": {
      "text/plain": [
       "satisfaction_level           satisfaction_level\n",
       "last_evaluation                 last_evaluation\n",
       "number_of_projects           number_of_projects\n",
       "average_montly_hours       average_montly_hours\n",
       "time_spend_in_company     time_spend_in_company\n",
       "had_work_accidents           had_work_accidents\n",
       "left_or_not                         left_or_not\n",
       "promoted_last_5_years     promoted_last_5_years\n",
       "department_IT                        department\n",
       "department_RandD                     department\n",
       "department_accounting                department\n",
       "department_hr                        department\n",
       "department_management                department\n",
       "department_marketing                 department\n",
       "department_product_mng               department\n",
       "department_sales                     department\n",
       "department_support                   department\n",
       "department_technical                 department\n",
       "salary_high                              salary\n",
       "salary_low                               salary\n",
       "salary_medium                            salary\n",
       "dtype: object"
      ]
     },
     "metadata": {},
     "output_type": "display_data"
    },
    {
     "data": {
      "text/plain": [
       "Index(['department', 'salary'], dtype='object')"
      ]
     },
     "metadata": {},
     "output_type": "display_data"
    },
    {
     "data": {
      "text/plain": [
       "Index(['last_evaluation', 'satisfaction_level', 'number_of_projects',\n",
       "       'average_montly_hours', 'had_work_accidents', 'time_spend_in_company',\n",
       "       'promoted_last_5_years', 'left_or_not'],\n",
       "      dtype='object')"
      ]
     },
     "metadata": {},
     "output_type": "display_data"
    },
    {
     "name": "stdout",
     "output_type": "stream",
     "text": [
      "['left_or_not', 'average_montly_hours', 'had_work_accidents', 'number_of_projects', 'promoted_last_5_years', 'last_evaluation', 'satisfaction_level', 'time_spend_in_company']\n",
      "['salary', 'department']\n"
     ]
    }
   ],
   "source": [
    "import pandas as pd\n",
    "\n",
    "data = pd.read_json('../data/onehot_name_dictionary.json', typ='series')\n",
    "\n",
    "display(data)\n",
    "\n",
    "display(data.value_counts()[data.value_counts()>1].index)\n",
    "display(data.value_counts()[data.value_counts()==1].index)\n",
    "\n",
    "\n",
    "print([col for col in set(data.values) if data[data==col].size==1])\n",
    "print([col for col in set(data.values) if data[data==col].size>1])"
   ]
  },
  {
   "cell_type": "code",
   "execution_count": 5,
   "metadata": {},
   "outputs": [
    {
     "name": "stdout",
     "output_type": "stream",
     "text": [
      "Collecting huggingface_hub\n",
      "  Downloading huggingface_hub-0.27.1-py3-none-any.whl.metadata (13 kB)\n",
      "Requirement already satisfied: filelock in /root/miniconda3/lib/python3.12/site-packages (from huggingface_hub) (3.16.1)\n",
      "Requirement already satisfied: fsspec>=2023.5.0 in /root/miniconda3/lib/python3.12/site-packages (from huggingface_hub) (2024.10.0)\n",
      "Requirement already satisfied: packaging>=20.9 in /root/miniconda3/lib/python3.12/site-packages (from huggingface_hub) (24.1)\n",
      "Requirement already satisfied: pyyaml>=5.1 in /root/miniconda3/lib/python3.12/site-packages (from huggingface_hub) (6.0.2)\n",
      "Requirement already satisfied: requests in /root/miniconda3/lib/python3.12/site-packages (from huggingface_hub) (2.32.3)\n",
      "Requirement already satisfied: tqdm>=4.42.1 in /root/miniconda3/lib/python3.12/site-packages (from huggingface_hub) (4.66.5)\n",
      "Requirement already satisfied: typing-extensions>=3.7.4.3 in /root/miniconda3/lib/python3.12/site-packages (from huggingface_hub) (4.12.2)\n",
      "Requirement already satisfied: charset-normalizer<4,>=2 in /root/miniconda3/lib/python3.12/site-packages (from requests->huggingface_hub) (3.3.2)\n",
      "Requirement already satisfied: idna<4,>=2.5 in /root/miniconda3/lib/python3.12/site-packages (from requests->huggingface_hub) (3.7)\n",
      "Requirement already satisfied: urllib3<3,>=1.21.1 in /root/miniconda3/lib/python3.12/site-packages (from requests->huggingface_hub) (2.2.3)\n",
      "Requirement already satisfied: certifi>=2017.4.17 in /root/miniconda3/lib/python3.12/site-packages (from requests->huggingface_hub) (2024.8.30)\n",
      "Downloading huggingface_hub-0.27.1-py3-none-any.whl (450 kB)\n",
      "Installing collected packages: huggingface_hub\n",
      "Successfully installed huggingface_hub-0.27.1\n",
      "\u001b[33mWARNING: Running pip as the 'root' user can result in broken permissions and conflicting behaviour with the system package manager, possibly rendering your system unusable.It is recommended to use a virtual environment instead: https://pip.pypa.io/warnings/venv. Use the --root-user-action option if you know what you are doing and want to suppress this warning.\u001b[0m\u001b[33m\n",
      "\u001b[0m"
     ]
    }
   ],
   "source": [
    "!pip install --upgrade huggingface_hub"
   ]
  },
  {
   "cell_type": "code",
   "execution_count": 14,
   "metadata": {},
   "outputs": [
    {
     "ename": "TypeError",
     "evalue": "'NoneType' object is not callable",
     "output_type": "error",
     "traceback": [
      "\u001b[0;31m---------------------------------------------------------------------------\u001b[0m",
      "\u001b[0;31mTypeError\u001b[0m                                 Traceback (most recent call last)",
      "Cell \u001b[0;32mIn[14], line 9\u001b[0m\n\u001b[1;32m      7\u001b[0m HF_GITHUB_ACTIONS_TOKEN \u001b[38;5;241m=\u001b[39m os\u001b[38;5;241m.\u001b[39mgetenv(\u001b[38;5;124m\"\u001b[39m\u001b[38;5;124mHF_GITHUB_ACTIONS_TOKEN\u001b[39m\u001b[38;5;124m\"\u001b[39m)\n\u001b[1;32m      8\u001b[0m api \u001b[38;5;241m=\u001b[39m HfApi()\n\u001b[0;32m----> 9\u001b[0m \u001b[43mapi\u001b[49m\u001b[38;5;241;43m.\u001b[39;49m\u001b[43mtoken\u001b[49m\u001b[43m(\u001b[49m\u001b[43mHF_GITHUB_ACTIONS_TOKEN\u001b[49m\u001b[43m)\u001b[49m\n",
      "\u001b[0;31mTypeError\u001b[0m: 'NoneType' object is not callable"
     ]
    }
   ],
   "source": [
    "import os\n",
    "from dotenv import load_dotenv\n",
    "from huggingface_hub import HfApi, Repository\n",
    "\n",
    "\n",
    "load_dotenv(override=True)\n",
    "HF_GITHUB_ACTIONS_TOKEN = os.getenv(\"HF_GITHUB_ACTIONS_TOKEN\")\n",
    "api = HfApi()\n",
    "api.token(HF_GITHUB_ACTIONS_TOKEN)\n"
   ]
  },
  {
   "cell_type": "code",
   "execution_count": 19,
   "metadata": {},
   "outputs": [],
   "source": [
    "from huggingface_hub import login\n",
    "login(HF_GITHUB_ACTIONS_TOKEN)"
   ]
  },
  {
   "cell_type": "code",
   "execution_count": 17,
   "metadata": {},
   "outputs": [
    {
     "data": {
      "text/plain": [
       "['get_token_permission', 'token']"
      ]
     },
     "execution_count": 17,
     "metadata": {},
     "output_type": "execute_result"
    }
   ],
   "source": [
    "[s for s in dir(api) if ('token' in s)]"
   ]
  }
 ],
 "metadata": {
  "kernelspec": {
   "display_name": "base",
   "language": "python",
   "name": "python3"
  },
  "language_info": {
   "codemirror_mode": {
    "name": "ipython",
    "version": 3
   },
   "file_extension": ".py",
   "mimetype": "text/x-python",
   "name": "python",
   "nbconvert_exporter": "python",
   "pygments_lexer": "ipython3",
   "version": "3.12.2"
  }
 },
 "nbformat": 4,
 "nbformat_minor": 2
}
